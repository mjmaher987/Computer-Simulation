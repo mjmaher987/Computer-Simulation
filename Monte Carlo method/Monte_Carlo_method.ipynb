{
  "nbformat": 4,
  "nbformat_minor": 0,
  "metadata": {
    "colab": {
      "provenance": []
    },
    "kernelspec": {
      "name": "python3",
      "display_name": "Python 3"
    },
    "language_info": {
      "name": "python"
    }
  },
  "cells": [
    {
      "cell_type": "markdown",
      "source": [
        "# Question 6 - Part 1\n"
      ],
      "metadata": {
        "id": "x4DWkXxhw7kj"
      }
    },
    {
      "cell_type": "code",
      "execution_count": 43,
      "metadata": {
        "colab": {
          "base_uri": "https://localhost:8080/"
        },
        "id": "6Ebs05MOt7nN",
        "outputId": "8aa84c36-18aa-485e-af7d-a81f6b52db45"
      },
      "outputs": [
        {
          "output_type": "stream",
          "name": "stdout",
          "text": [
            "3.14151\n",
            "Number of iterations: 15306\n",
            "9.999999999621423e-06\n"
          ]
        }
      ],
      "source": [
        "\n",
        "loop = 0\n",
        "in_number = 0\n",
        "all_number = 0\n",
        "pi = 0.0000\n",
        "array_of_records = []\n",
        "while True:\n",
        "  loop += 1\n",
        "  import random\n",
        "  random_1 = random.uniform(-1, 1)\n",
        "  random_2 = random.uniform(-1, 1)\n",
        "  point_square = random_1 * random_1 + random_2 * random_2\n",
        "\n",
        "  if point_square <= 1:\n",
        "    in_number += 1\n",
        " \n",
        "  all_number += 1\n",
        "  pi = round(4 * in_number / all_number, 5)\n",
        "  array_of_records.append(pi)\n",
        "  if abs(pi - 3.1415) < 0.00001:\n",
        "    break\n",
        " \n",
        "print(f'{pi:.5f}')\n",
        "print(\"Number of iterations: \" + str(loop))\n",
        "print(pi - 3.1415)"
      ]
    },
    {
      "cell_type": "markdown",
      "source": [
        "# Question 6 - Part 2"
      ],
      "metadata": {
        "id": "8p2w6laCxMcD"
      }
    },
    {
      "cell_type": "code",
      "source": [
        "import matplotlib.pyplot as plt\n",
        "plt.plot(array_of_records)\n",
        "plt.ylabel('Pi based on iterations')\n",
        "plt.show()"
      ],
      "metadata": {
        "colab": {
          "base_uri": "https://localhost:8080/",
          "height": 265
        },
        "id": "awZ8g7bzxQSK",
        "outputId": "aa66cece-a544-427f-a094-ce993007cd68"
      },
      "execution_count": 44,
      "outputs": [
        {
          "output_type": "display_data",
          "data": {
            "text/plain": [
              "<Figure size 432x288 with 1 Axes>"
            ],
            "image/png": "[encoded data removed]"
          },
          "metadata": {
            "needs_background": "light"
          }
        }
      ]
    },
    {
      "cell_type": "markdown",
      "source": [
        "# Question 6 - Part 3"
      ],
      "metadata": {
        "id": "Xa1WYLJkxwIO"
      }
    },
    {
      "cell_type": "code",
      "source": [
        "def repeat_part_1_and_2():\n",
        "  number_of_max_iterations = loop\n",
        "  counter = 0\n",
        "\n",
        "  in_number = 0\n",
        "  all_number = 0\n",
        "  pi = 0.0000\n",
        "\n",
        "  array_of_records = []\n",
        "  while counter < number_of_max_iterations:\n",
        "    counter += 1\n",
        "    import random\n",
        "    random_1 = random.uniform(-1, 1)\n",
        "    random_2 = random.uniform(-1, 1)\n",
        "    point_square = random_1 * random_1 + random_2 * random_2\n",
        "\n",
        "    if point_square <= 1:\n",
        "      in_number += 1\n",
        "  \n",
        "    all_number += 1\n",
        "    pi = round(4 * in_number / all_number, 5)\n",
        "    array_of_records.append(pi)\n",
        "\n",
        "  \n",
        "  print(f'{pi:.5f}')\n",
        "  print(\"Number of iterations: \" + str(counter))\n",
        "  plt.plot(array_of_records)\n",
        "  plt.ylabel('Pi based on iterations')\n",
        "  plt.show()"
      ],
      "metadata": {
        "id": "mIIqUi0Dxxx1"
      },
      "execution_count": 45,
      "outputs": []
    },
    {
      "cell_type": "code",
      "source": [
        "repeat_part_1_and_2()"
      ],
      "metadata": {
        "colab": {
          "base_uri": "https://localhost:8080/",
          "height": 301
        },
        "id": "VLLr3KXmycEY",
        "outputId": "8565f03b-c7f3-42fc-bdaa-200683d95b84"
      },
      "execution_count": 46,
      "outputs": [
        {
          "output_type": "stream",
          "name": "stdout",
          "text": [
            "3.16921\n",
            "Number of iterations: 15306\n"
          ]
        },
        {
          "output_type": "display_data",
          "data": {
            "text/plain": [
              "<Figure size 432x288 with 1 Axes>"
            ],
            "image/png": "[encoded data removed]"
          },
          "metadata": {
            "needs_background": "light"
          }
        }
      ]
    },
    {
      "cell_type": "code",
      "source": [
        "repeat_part_1_and_2()"
      ],
      "metadata": {
        "colab": {
          "base_uri": "https://localhost:8080/",
          "height": 301
        },
        "id": "0c6Z70gTyfYO",
        "outputId": "cc69af6a-2405-4f3d-cc6c-844d799936a5"
      },
      "execution_count": 47,
      "outputs": [
        {
          "output_type": "stream",
          "name": "stdout",
          "text": [
            "3.14413\n",
            "Number of iterations: 15306\n"
          ]
        },
        {
          "output_type": "display_data",
          "data": {
            "text/plain": [
              "<Figure size 432x288 with 1 Axes>"
            ],
            "image/png": "[encoded data removed]"
          },
          "metadata": {
            "needs_background": "light"
          }
        }
      ]
    },
    {
      "cell_type": "markdown",
      "source": [
        "# Question 6 - Part 4"
      ],
      "metadata": {
        "id": "Dw1phqftyq4M"
      }
    },
    {
      "cell_type": "code",
      "source": [
        "def do_everything():\n",
        "  number_of_max_iterations = 100000\n",
        "  counter = 0\n",
        "\n",
        "  in_number = 0\n",
        "  all_number = 0\n",
        "  pi = 0.0000\n",
        "\n",
        "  array_of_records = []\n",
        "  while counter < number_of_max_iterations:\n",
        "    counter += 1\n",
        "    import random\n",
        "    random_1 = random.gauss(50, 100) / 50 - 1\n",
        "    random_2 = random.gauss(50, 100) / 50 - 1\n",
        "    point_square = random_1 * random_1 + random_2 * random_2\n",
        "\n",
        "    if point_square <= 1:\n",
        "      in_number += 1\n",
        "  \n",
        "    all_number += 1\n",
        "    pi = round(4 * in_number / all_number, 5)\n",
        "    array_of_records.append(pi)\n",
        "\n",
        "\n",
        "  \n",
        "  print(f'{pi:.5f}')\n",
        "  print(\"Number of iterations: \" + str(counter))\n",
        "  plt.plot(array_of_records)\n",
        "  plt.ylabel('Pi based on iterations')\n",
        "  plt.show()"
      ],
      "metadata": {
        "id": "0RNFAMw9y2il"
      },
      "execution_count": 48,
      "outputs": []
    },
    {
      "cell_type": "code",
      "source": [
        "do_everything()"
      ],
      "metadata": {
        "colab": {
          "base_uri": "https://localhost:8080/",
          "height": 303
        },
        "id": "vYoxad0S4V1K",
        "outputId": "3a651029-08e8-4071-d0b1-e0d8ca689e9b"
      },
      "execution_count": 49,
      "outputs": [
        {
          "output_type": "stream",
          "name": "stdout",
          "text": [
            "0.46388\n",
            "Number of iterations: 100000\n"
          ]
        },
        {
          "output_type": "display_data",
          "data": {
            "text/plain": [
              "<Figure size 432x288 with 1 Axes>"
            ],
            "image/png": "[encoded data removed]"
          },
          "metadata": {
            "needs_background": "light"
          }
        }
      ]
    }
  ]
}